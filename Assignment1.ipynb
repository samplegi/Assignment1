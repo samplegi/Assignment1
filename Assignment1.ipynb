{
 "cells": [
  {
   "cell_type": "code",
   "execution_count": 1,
   "id": "7ddfaca6",
   "metadata": {},
   "outputs": [
    {
     "name": "stdout",
     "output_type": "stream",
     "text": [
      "Twinkle,twinkle,little star, \n",
      "\tHow I wonder what your are! \n",
      "\t\tUp above the world so high, \n",
      "\t\tLike a diamond in the sky. \n",
      " Twinkle,twinkle,little star, \n",
      "\tHow I wonder what you are\n"
     ]
    }
   ],
   "source": [
    "print(\"Twinkle,twinkle,little star, \\n\\tHow I wonder what your are! \\n\\t\\tUp above the world so high, \\n\\t\\tLike a diamond in the sky. \\n Twinkle,twinkle,little star, \\n\\tHow I wonder what you are\")\n"
   ]
  },
  {
   "cell_type": "code",
   "execution_count": 6,
   "id": "18e0bc8f",
   "metadata": {},
   "outputs": [
    {
     "name": "stdout",
     "output_type": "stream",
     "text": [
      "python version:\n",
      "3.9.7 (default, Sep 16 2021, 16:59:28) [MSC v.1916 64 bit (AMD64)]\n",
      "version info\n",
      "sys.version_info(major=3, minor=9, micro=7, releaselevel='final', serial=0)\n"
     ]
    }
   ],
   "source": [
    "import sys\n",
    "print(\"python version:\" )\n",
    "print(sys.version)\n",
    "print(\"version info\")\n",
    "print(sys.version_info)"
   ]
  },
  {
   "cell_type": "code",
   "execution_count": 8,
   "id": "bff73d63",
   "metadata": {},
   "outputs": [
    {
     "name": "stdout",
     "output_type": "stream",
     "text": [
      "current date and time:\n",
      "22-01-01 16:40:31\n"
     ]
    }
   ],
   "source": [
    "import datetime\n",
    "now=datetime.datetime.now()\n",
    "print(\"current date and time:\")\n",
    "print(now.strftime(\"%y-%m-%d %H:%M:%S\"))"
   ]
  },
  {
   "cell_type": "code",
   "execution_count": 9,
   "id": "dfbfd8f4",
   "metadata": {},
   "outputs": [
    {
     "name": "stdout",
     "output_type": "stream",
     "text": [
      "enter the radius of the circle:2\n",
      "area of the circle is= 12.5664\n"
     ]
    }
   ],
   "source": [
    "pi=3.1416\n",
    "r=float(input(\"enter the radius of the circle:\"))\n",
    "area=pi*r**2\n",
    "print(\"area of the circle is=\",area)"
   ]
  },
  {
   "cell_type": "code",
   "execution_count": 11,
   "id": "26619c66",
   "metadata": {},
   "outputs": [
    {
     "name": "stdout",
     "output_type": "stream",
     "text": [
      "enter the 1st name:Shumaila\n",
      "enter the 2nd name:Sharif\n",
      "Sharif  Shumaila\n"
     ]
    }
   ],
   "source": [
    "x=input(\"enter the 1st name:\")\n",
    "y=input(\"enter the 2nd name:\")\n",
    "print(y,\"\",x)"
   ]
  },
  {
   "cell_type": "code",
   "execution_count": 12,
   "id": "5900f631",
   "metadata": {},
   "outputs": [
    {
     "name": "stdout",
     "output_type": "stream",
     "text": [
      "enter the 1st numher:5\n",
      "enter the 2nd number2\n",
      "7\n"
     ]
    }
   ],
   "source": [
    "x=int(input(\"enter the 1st numher:\"))\n",
    "y=int(input(\"enter the 2nd number\"))\n",
    "z=x+y\n",
    "print(z)"
   ]
  },
  {
   "cell_type": "code",
   "execution_count": null,
   "id": "27db786a",
   "metadata": {},
   "outputs": [],
   "source": []
  }
 ],
 "metadata": {
  "kernelspec": {
   "display_name": "Python 3 (ipykernel)",
   "language": "python",
   "name": "python3"
  },
  "language_info": {
   "codemirror_mode": {
    "name": "ipython",
    "version": 3
   },
   "file_extension": ".py",
   "mimetype": "text/x-python",
   "name": "python",
   "nbconvert_exporter": "python",
   "pygments_lexer": "ipython3",
   "version": "3.9.7"
  }
 },
 "nbformat": 4,
 "nbformat_minor": 5
}
